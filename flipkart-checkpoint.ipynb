{
 "cells": [
  {
   "cell_type": "code",
   "execution_count": 1,
   "metadata": {},
   "outputs": [],
   "source": [
    "import requests\n",
    "import urllib.request\n",
    "import time\n",
    "from bs4 import BeautifulSoup\n",
    "from openpyxl import Workbook\n",
    "import time"
   ]
  },
  {
   "cell_type": "code",
   "execution_count": 2,
   "metadata": {
    "scrolled": true
   },
   "outputs": [
    {
     "name": "stdout",
     "output_type": "stream",
     "text": [
      "50\n",
      "50\n"
     ]
    }
   ],
   "source": [
    "wb = Workbook()\n",
    "ws = wb.create_sheet(\"sheet3\")\n",
    "\n",
    "pg1 = 'https://www.flipkart.com/search?q=mobile&otracker=search&otracker1=search&marketplace=FLIPKART&as-show=on&as=off&p%5B%5D=facets.serviceability%5B%5D%3Dtrue&p%5B%5D=facets.brand%255B%255D%3DSamsung&sort=price_asc'\n",
    "pg2 = 'https://www.flipkart.com/search?q=mobile&otracker=search&otracker1=search&marketplace=FLIPKART&as-show=off&as=off&sort=price_asc&p%5B%5D=facets.serviceability%5B%5D%3Dtrue&p%5B%5D=facets.brand%255B%255D%3DSamsung&page=2'\n",
    "pg3 = 'https://www.flipkart.com/search?q=mobile&otracker=search&otracker1=search&marketplace=FLIPKART&as-show=off&as=off&sort=price_asc&p%5B%5D=facets.serviceability%5B%5D%3Dtrue&p%5B%5D=facets.brand%255B%255D%3DSamsung&page=3'\n",
    "pg4 = 'https://www.flipkart.com/search?q=mobile&otracker=search&otracker1=search&marketplace=FLIPKART&as-show=off&as=off&sort=price_asc&p%5B%5D=facets.serviceability%5B%5D%3Dtrue&p%5B%5D=facets.brand%255B%255D%3DSamsung&page=4'\n",
    "pg5 = 'https://www.flipkart.com/search?q=mobile&otracker=search&otracker1=search&marketplace=FLIPKART&as-show=off&as=off&sort=price_asc&p%5B%5D=facets.serviceability%5B%5D%3Dtrue&p%5B%5D=facets.brand%255B%255D%3DSamsung&page=5'\n",
    "pg6 = 'https://www.flipkart.com/search?q=mobile&otracker=search&otracker1=search&marketplace=FLIPKART&as-show=off&as=off&sort=price_asc&p%5B%5D=facets.serviceability%5B%5D%3Dtrue&p%5B%5D=facets.brand%255B%255D%3DSamsung&page=6'\n",
    "pg7 = 'https://www.flipkart.com/search?q=mobile&otracker=search&otracker1=search&marketplace=FLIPKART&as-show=off&as=off&sort=price_asc&p%5B%5D=facets.serviceability%5B%5D%3Dtrue&p%5B%5D=facets.brand%255B%255D%3DSamsung&page=7'\n",
    "pg8 = 'https://www.flipkart.com/search?q=mobile&otracker=search&otracker1=search&marketplace=FLIPKART&as-show=off&as=off&sort=price_asc&p%5B%5D=facets.serviceability%5B%5D%3Dtrue&p%5B%5D=facets.brand%255B%255D%3DSamsung&page=8'\n",
    "pg9 = 'https://www.flipkart.com/search?q=mobile&otracker=search&otracker1=search&marketplace=FLIPKART&as-show=off&as=off&sort=price_asc&p%5B%5D=facets.serviceability%5B%5D%3Dtrue&p%5B%5D=facets.brand%255B%255D%3DSamsung&page=9'\n",
    "pg10 = 'https://www.flipkart.com/search?q=mobile&otracker=search&otracker1=search&marketplace=FLIPKART&as-show=off&as=off&sort=price_asc&p%5B%5D=facets.serviceability%5B%5D%3Dtrue&p%5B%5D=facets.brand%255B%255D%3DSamsung&page=10'\n",
    "pg11 = 'https://www.flipkart.com/search?q=mobile&otracker=search&otracker1=search&marketplace=FLIPKART&as-show=off&as=off&sort=price_asc&p%5B%5D=facets.serviceability%5B%5D%3Dtrue&p%5B%5D=facets.brand%255B%255D%3DSamsung&page=11'\n",
    "pg12 = 'https://www.flipkart.com/search?q=mobile&otracker=search&otracker1=search&marketplace=FLIPKART&as-show=off&as=off&sort=price_asc&p%5B%5D=facets.serviceability%5B%5D%3Dtrue&p%5B%5D=facets.brand%255B%255D%3DSamsung&page=12'\n",
    "pg13 = 'https://www.flipkart.com/search?q=mobile&otracker=search&otracker1=search&marketplace=FLIPKART&as-show=off&as=off&sort=price_asc&p%5B%5D=facets.serviceability%5B%5D%3Dtrue&p%5B%5D=facets.brand%255B%255D%3DSamsung&page=13'\n",
    "pg14 = 'https://www.flipkart.com/search?q=mobile&otracker=search&otracker1=search&marketplace=FLIPKART&as-show=off&as=off&sort=price_asc&p%5B%5D=facets.serviceability%5B%5D%3Dtrue&p%5B%5D=facets.brand%255B%255D%3DSamsung&page=14'\n",
    "pg15 = 'https://www.flipkart.com/search?q=mobile&otracker=search&otracker1=search&marketplace=FLIPKART&as-show=off&as=off&sort=price_asc&p%5B%5D=facets.serviceability%5B%5D%3Dtrue&p%5B%5D=facets.brand%255B%255D%3DSamsung&page=15'\n",
    "pg16 = 'https://www.flipkart.com/search?q=mobile&otracker=search&otracker1=search&marketplace=FLIPKART&as-show=off&as=off&sort=price_asc&p%5B%5D=facets.serviceability%5B%5D%3Dtrue&p%5B%5D=facets.brand%255B%255D%3DSamsung&page=16'\n",
    "pg17 = 'https://www.flipkart.com/search?q=mobile&otracker=search&otracker1=search&marketplace=FLIPKART&as-show=off&as=off&sort=price_asc&p%5B%5D=facets.serviceability%5B%5D%3Dtrue&p%5B%5D=facets.brand%255B%255D%3DSamsung&page=17'\n",
    "pg18 = 'https://www.flipkart.com/search?q=mobile&otracker=search&otracker1=search&marketplace=FLIPKART&as-show=off&as=off&sort=price_asc&p%5B%5D=facets.serviceability%5B%5D%3Dtrue&p%5B%5D=facets.brand%255B%255D%3DSamsung&page=18'\n",
    "pg19 = 'https://www.flipkart.com/search?q=mobile&otracker=search&otracker1=search&marketplace=FLIPKART&as-show=off&as=off&sort=price_asc&p%5B%5D=facets.serviceability%5B%5D%3Dtrue&p%5B%5D=facets.brand%255B%255D%3DSamsung&page=19'\n",
    "\n",
    "\n",
    "links = (pg1, pg2, pg3, pg4, pg5, pg6, pg7, pg8, pg9, pg10, pg11, pg12, pg13, pg14, pg15, pg16, pg17, pg18, pg10)\n",
    "linkv = 0\n",
    "wks2=2\n",
    "wks=2\n",
    "rt=wks\n",
    "re=wks2\n",
    "ws.cell(row=1,column=1, value=\"Device Name\")\n",
    "ws.cell(row=1,column=2, value=\"Price\")\n",
    "for o in range(0,2):\n",
    "    response = requests.get(links[linkv])\n",
    "\n",
    "    soup = BeautifulSoup(response.text, \"html.parser\")\n",
    "\n",
    "    price = soup.findAll(\"div\", {\"class\": \"_1vC4OE _2rQ-NK\"})\n",
    "    name = soup.findAll(\"div\", {\"class\": \"_3wU53n\"})\n",
    "\n",
    "    price = soup.findAll(\"div\", {\"class\": \"_1vC4OE _2rQ-NK\"})\n",
    "\n",
    "    listi=0\n",
    "    nm = str(name)\n",
    "    a=nm.split(\"n\\\">\")\n",
    "\n",
    "    for i in range(len(a)-1):\n",
    "        b=a[listi+1].split(\"</div>\")\n",
    "        listi = listi + 1\n",
    "        ws.cell(row=rt, column=1, value=b[0])\n",
    "        rt = rt+1\n",
    "        \n",
    "                \n",
    "\n",
    "\n",
    "    listi2=0\n",
    "    pr = str(price)\n",
    "    c=pr.split(\"NK\\\">₹\")\n",
    "\n",
    "    for j in range(len(c)-1):\n",
    "        d=c[j+1].split(\"</div>\")\n",
    "        listi2=listi2+1\n",
    "        ws.cell(row=re, column=2, value=d[0])\n",
    "        re = re+1\n",
    "    \n",
    "    linkv = linkv + 1\n",
    "    wks = wks + 24\n",
    "    wks2 = wks2 + 24\n",
    "    wb.save(\"2.xlsx\")\n",
    "    \n",
    "    \n",
    "print(wks)\n",
    "print(wks2)\n",
    "    \n",
    "\n"
   ]
  },
  {
   "cell_type": "code",
   "execution_count": null,
   "metadata": {},
   "outputs": [],
   "source": []
  }
 ],
 "metadata": {
  "kernelspec": {
   "display_name": "Python 3",
   "language": "python",
   "name": "python3"
  },
  "language_info": {
   "codemirror_mode": {
    "name": "ipython",
    "version": 3
   },
   "file_extension": ".py",
   "mimetype": "text/x-python",
   "name": "python",
   "nbconvert_exporter": "python",
   "pygments_lexer": "ipython3",
   "version": "3.7.3"
  }
 },
 "nbformat": 4,
 "nbformat_minor": 2
}
