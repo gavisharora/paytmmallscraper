{
 "cells": [
  {
   "cell_type": "code",
   "execution_count": 1,
   "metadata": {},
   "outputs": [],
   "source": [
    "import requests\n",
    "import urllib.request\n",
    "import time\n",
    "from bs4 import BeautifulSoup\n",
    "from openpyxl import Workbook\n",
    "import time\n",
    "import datetime"
   ]
  },
  {
   "cell_type": "code",
   "execution_count": 22,
   "metadata": {},
   "outputs": [],
   "source": [
    "wb = Workbook()\n",
    "ws = wb.create_sheet(\"sheet4\")\n",
    "wks2=2\n",
    "wks=2\n",
    "rt=wks\n",
    "re=wks2\n",
    "rs=wks\n",
    "rx=wks\n",
    "ws.cell(row=1,column=1, value=\"Device Name\")\n",
    "ws.cell(row=1,column=2, value=\"Price\")\n",
    "ws.cell(row=1,column=3, value=\"Offers\")\n",
    "ws.cell(row=1,column=4, value=\"timestamp\")\n",
    "\n",
    "\n",
    "url = 'https://paytmmall.com/mobiles-tablets-llpid-117237?discoverability=online&use_mw=1&sort_price=0&page='\n",
    "links=('1','2','3','4','5','6','7','8','9','10','11','12','13','14','15','16','17','18','19','20','21','22','23','24','25','26','27','28','29','30','31','32','33','34','35','36','37','38','39','40','41','42','43','44','45','46','47','48','49','50','51')\n",
    "\n",
    "for o in range(0,1):\n",
    "    response = requests.get(url+links[o])\n",
    "    soup = BeautifulSoup(response.text, \"html.parser\")\n",
    "    name = soup.findAll(\"div\", {\"class\": \"_2apC\"})\n",
    "    price = soup.findAll(\"div\", {\"class\": \"_1kMS\"})\n",
    "    \n",
    "    listi=0\n",
    "    nm = str(name)\n",
    "    a=nm.split(\"\\\">\")\n",
    "    for i in range(len(a)-1):\n",
    "        b=a[listi+1].split(\"</div>\")\n",
    "        listi = listi + 1\n",
    "        ws.cell(row=rt, column=1, value=b[0])\n",
    "        rt = rt+1\n",
    "        ws.cell(row=rx, column=4, value=str(datetime.datetime.utcnow()))\n",
    "        rx=rx+1\n",
    "\n",
    "    li=0\n",
    "    pr = str(price)\n",
    "    c=pr.split(\"<!-- react-text: \")\n",
    "    for j in range(len(c)-1):\n",
    "        d=c[j+1].split(\"<\")\n",
    "        li=li+1\n",
    "        x=d[0].split(\">\")\n",
    "        ws.cell(row=re, column=2, value=x[1])\n",
    "        re = re+1\n",
    "    \n",
    "    offers = soup.findAll(\"div\", {\"class\": \"_27VV\"})\n",
    "    listi3=0\n",
    "    of = str(offers)\n",
    "    ca=of.split(\"<!-- react-text: \")\n",
    "    for ja in range(len(ca)-2):\n",
    "        da=ca[ja+2].split(\">\")\n",
    "        listi3=listi3+1\n",
    "        if da[1].startswith(' '):\n",
    "            ws.cell(row=rs, column=3, value=' ')\n",
    "            rs=rs+1\n",
    "        else:\n",
    "           xa=da[1].split(\"<!\")\n",
    "           ws.cell(row=rs, column=3, value=xa[0])\n",
    "           rs = rs+1\n",
    "    wks = wks + 32\n",
    "    wks2 = wks2 + 32\n",
    "    wb.save(\"paytm.xlsx\")\n",
    "\n",
    "\n"
   ]
  },
  {
   "cell_type": "code",
   "execution_count": null,
   "metadata": {},
   "outputs": [],
   "source": []
  }
 ],
 "metadata": {
  "kernelspec": {
   "display_name": "Python 3",
   "language": "python",
   "name": "python3"
  },
  "language_info": {
   "codemirror_mode": {
    "name": "ipython",
    "version": 3
   },
   "file_extension": ".py",
   "mimetype": "text/x-python",
   "name": "python",
   "nbconvert_exporter": "python",
   "pygments_lexer": "ipython3",
   "version": "3.7.3"
  }
 },
 "nbformat": 4,
 "nbformat_minor": 2
}
